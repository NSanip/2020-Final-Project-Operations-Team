{
 "cells": [
  {
   "cell_type": "code",
   "execution_count": 9,
   "metadata": {},
   "outputs": [
    {
     "name": "stdout",
     "output_type": "stream",
     "text": [
      "0\n"
     ]
    },
    {
     "name": "stderr",
     "output_type": "stream",
     "text": [
      "/opt/conda/lib/python3.7/site-packages/ipykernel_launcher.py:44: DeprecationWarning: The default dtype for empty Series will be 'object' instead of 'float64' in a future version. Specify a dtype explicitly to silence this warning.\n"
     ]
    }
   ],
   "source": [
    "import numpy as np\n",
    "import pandas as pd\n",
    "from matplotlib import pyplot as plt\n",
    "from sklearn.datasets import load_breast_cancer\n",
    "\n",
    "\n",
    "file = pd.read_csv(\"http://ladi.s3-us-west-2.amazonaws.com/Labels/ladi_aggregated_responses_url.tsv\",delimiter='\\t',header='infer')\n",
    "file[\"Answer\"] = file[\"Answer\"].str.strip('[|]')\n",
    "file[\"Answer\"] = file[\"Answer\"].str.split(\",\",expand = True)\n",
    "\n",
    "#INFRASTRUCTURE\n",
    "\n",
    "# Extract labels with damage and infrastructure categories\n",
    "label_infra = file[file['Answer'].str.contains('infrastructure',na=False,case=False)]\n",
    "\n",
    "#Filter out infrastructure label with label 'none'\n",
    "label_clean = label_infra[~label_infra['Answer'].str.contains('none',na=False,case=False)]\n",
    "\n",
    "# Extract url data with the label does not contain 'flood'\n",
    "urls = label_clean['url'].unique().tolist()\n",
    "labels = label_clean['Answer'].unique().tolist()\n",
    "\n",
    "metadata = pd.read_csv('http://ladi.s3-us-west-2.amazonaws.com/Labels/ladi_images_metadata.csv')\n",
    "\n",
    "\n",
    "used_metadata = metadata[metadata['url'].isin(urls)]\n",
    "\n",
    "# Generate url and s3_path features into list\n",
    "meta_lst = used_metadata['url'].tolist()\n",
    "meta_s3_lst = used_metadata['s3_path'].tolist()\n",
    "\n",
    "# Check how many images do not have metadata but have human labels\n",
    "human_label_only = list(set(urls) - set(meta_lst))\n",
    "print(len(human_label_only))\n",
    "\n",
    "#landslide_tiny_lst = sample(landslide_meta_s3_lst, 831)\n",
    "tiny_metadata = metadata[metadata['s3_path'].isin(meta_s3_lst)]\n",
    "\n",
    "# creating the new datasets\n",
    "labels_list = []\n",
    "for label in labels:\n",
    "    first = label_clean[label_clean['Answer'].str.contains(label,na=False,case=False)]['url'].unique().tolist()\n",
    "    s3_series = used_metadata[used_metadata['url'].isin(first)]['s3_path']\n",
    "    label_col =  pd.Series(name=\"label\")\n",
    "    df = pd.concat([s3_series, label_col], axis=1)\n",
    "    df['label'] = label\n",
    "    labels_list.append(df)\n",
    "\n",
    "label_df = pd.concat(labels_list)\n",
    "label_df = label_df.drop_duplicates(subset=\"s3_path\")\n",
    "tiny_metadata.to_csv('infrastructure_tiny_metadata.csv')\n",
    "label_df.to_csv('infrastructure_tiny_label.csv')"
   ]
  },
  {
   "cell_type": "code",
   "execution_count": 8,
   "metadata": {},
   "outputs": [
    {
     "name": "stdout",
     "output_type": "stream",
     "text": [
      "0\n"
     ]
    },
    {
     "name": "stderr",
     "output_type": "stream",
     "text": [
      "/opt/conda/lib/python3.7/site-packages/ipykernel_launcher.py:34: DeprecationWarning: The default dtype for empty Series will be 'object' instead of 'float64' in a future version. Specify a dtype explicitly to silence this warning.\n"
     ]
    }
   ],
   "source": [
    "#DAMAGE\n",
    "\n",
    "# Extract labels with damage and infrastructure categories\n",
    "label_damage = file[file['Answer'].str.contains('damage',na=False,case=False)]\n",
    "\n",
    "#Filter out infrastructure label with label 'none'\n",
    "label_clean = label_damage\n",
    "\n",
    "# Extract url data with the label does not contain 'flood'\n",
    "urls = label_clean['url'].unique().tolist()\n",
    "labels = label_clean['Answer'].unique().tolist()\n",
    "\n",
    "metadata = pd.read_csv('http://ladi.s3-us-west-2.amazonaws.com/Labels/ladi_images_metadata.csv')\n",
    "\n",
    "\n",
    "used_metadata = metadata[metadata['url'].isin(urls)]\n",
    "\n",
    "# Generate url and s3_path features into list\n",
    "meta_lst = used_metadata['url'].tolist()\n",
    "meta_s3_lst = used_metadata['s3_path'].tolist()\n",
    "\n",
    "# Check how many images do not have metadata but have human labels\n",
    "human_label_only = list(set(urls) - set(meta_lst))\n",
    "print(len(human_label_only))\n",
    "\n",
    "#landslide_tiny_lst = sample(landslide_meta_s3_lst, 831)\n",
    "tiny_metadata = metadata[metadata['s3_path'].isin(meta_s3_lst)]\n",
    "\n",
    "# creating the new datasets\n",
    "labels_list = []\n",
    "for label in labels:\n",
    "    first = label_clean[label_clean['Answer'].str.contains(label,na=False,case=False)]['url'].unique().tolist()\n",
    "    s3_series = used_metadata[used_metadata['url'].isin(first)]['s3_path']\n",
    "    label_col =  pd.Series(name=\"label\")\n",
    "    df = pd.concat([s3_series, label_col], axis=1)\n",
    "    df['label'] = label\n",
    "    labels_list.append(df)\n",
    "\n",
    "label_df = pd.concat(labels_list)\n",
    "label_df = label_df.drop_duplicates(subset=\"s3_path\")\n",
    "tiny_metadata.to_csv('damage_tiny_metadata.csv')\n",
    "label_df.to_csv('damage_tiny_label.csv')"
   ]
  }
 ],
 "metadata": {
  "kernelspec": {
   "display_name": "Python 3",
   "language": "python",
   "name": "python3"
  },
  "language_info": {
   "codemirror_mode": {
    "name": "ipython",
    "version": 3
   },
   "file_extension": ".py",
   "mimetype": "text/x-python",
   "name": "python",
   "nbconvert_exporter": "python",
   "pygments_lexer": "ipython3",
   "version": "3.7.6"
  }
 },
 "nbformat": 4,
 "nbformat_minor": 4
}
