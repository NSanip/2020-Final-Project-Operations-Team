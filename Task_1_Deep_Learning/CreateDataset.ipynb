{
 "cells": [
  {
   "cell_type": "code",
   "execution_count": 1,
   "metadata": {},
   "outputs": [
    {
     "name": "stdout",
     "output_type": "stream",
     "text": [
      "0\n"
     ]
    },
    {
     "name": "stderr",
     "output_type": "stream",
     "text": [
      "/opt/conda/lib/python3.7/site-packages/ipykernel_launcher.py:41: DeprecationWarning: The default dtype for empty Series will be 'object' instead of 'float64' in a future version. Specify a dtype explicitly to silence this warning.\n"
     ]
    }
   ],
   "source": [
    "import numpy as np\n",
    "import pandas as pd\n",
    "from matplotlib import pyplot as plt\n",
    "\n",
    "\n",
    "file = pd.read_csv(\"http://ladi.s3-us-west-2.amazonaws.com/Labels/ladi_aggregated_responses_url.tsv\",delimiter='\\t',header='infer')\n",
    "file[\"Answer\"] = file[\"Answer\"].str.strip('[|]')\n",
    "file[\"Answer\"] = file[\"Answer\"].str.split(\",\",expand = True)\n",
    "\n",
    "# Extract labels with damage and infrastructure categories\n",
    "label_damage_infra = file[file['Answer'].str.contains('damage|infrastructure',na=False,case=False)]\n",
    "\n",
    "#Filter out infrastructure label with label 'none'\n",
    "label_clean = label_damage_infra[~label_damage_infra['Answer'].str.contains('none',na=False,case=False)]\n",
    "\n",
    "# Extract url data with the label does not contain 'flood'\n",
    "urls = label_clean['url'].unique().tolist()\n",
    "labels = label_clean['Answer'].unique().tolist()\n",
    "\n",
    "metadata = pd.read_csv('http://ladi.s3-us-west-2.amazonaws.com/Labels/ladi_images_metadata.csv')\n",
    "\n",
    "\n",
    "used_metadata = metadata[metadata['url'].isin(urls)]\n",
    "\n",
    "# Generate url and s3_path features into list\n",
    "meta_lst = used_metadata['url'].tolist()\n",
    "meta_s3_lst = used_metadata['s3_path'].tolist()\n",
    "\n",
    "# Check how many images do not have metadata but have human labels\n",
    "human_label_only = list(set(urls) - set(meta_lst))\n",
    "print(len(human_label_only))\n",
    "\n",
    "#landslide_tiny_lst = sample(landslide_meta_s3_lst, 831)\n",
    "tiny_metadata = metadata[metadata['s3_path'].isin(meta_s3_lst)]\n",
    "\n",
    "# creating the new datasets\n",
    "labels_list = []\n",
    "for label in labels:\n",
    "    first = label_clean[label_clean['Answer'].str.contains(label,na=False,case=False)]['url'].unique().tolist()\n",
    "    s3_series = used_metadata[used_metadata['url'].isin(first)]['s3_path']\n",
    "    label_col =  pd.Series(name=\"label\")\n",
    "    df = pd.concat([s3_series, label_col], axis=1)\n",
    "    df['label'] = label\n",
    "    labels_list.append(df)\n",
    "\n",
    "label_df = pd.concat(labels_list)\n",
    "label_df = label_df.groupby(['s3_path']).agg('sum')\n",
    "\n",
    "tiny_metadata.to_csv('tiny_metadata.csv')\n",
    "label_df.to_csv('tiny_label.csv')"
   ]
  },
  {
   "cell_type": "code",
   "execution_count": 2,
   "metadata": {},
   "outputs": [],
   "source": [
    "df = pd.read_csv('tiny_label.csv')"
   ]
  },
  {
   "cell_type": "code",
   "execution_count": 19,
   "metadata": {},
   "outputs": [],
   "source": [
    "l = []\n",
    "for j in df['label'].values:\n",
    "    l.append([i for i in j.split(\"'\") if i])"
   ]
  },
  {
   "cell_type": "code",
   "execution_count": 21,
   "metadata": {},
   "outputs": [],
   "source": [
    "df['label'] = l"
   ]
  },
  {
   "cell_type": "code",
   "execution_count": 24,
   "metadata": {},
   "outputs": [
    {
     "data": {
      "text/plain": [
       "'s3://ladi/Images/FEMA_CAP/1013/20147/DSC_1575_787dc8f2-fb8f-4464-99a2-45ba5fc677c2.jpg'"
      ]
     },
     "execution_count": 24,
     "metadata": {},
     "output_type": "execute_result"
    }
   ],
   "source": [
    "df.loc[4,'s3_path']"
   ]
  },
  {
   "cell_type": "code",
   "execution_count": 28,
   "metadata": {},
   "outputs": [
    {
     "data": {
      "text/html": [
       "<div>\n",
       "<style scoped>\n",
       "    .dataframe tbody tr th:only-of-type {\n",
       "        vertical-align: middle;\n",
       "    }\n",
       "\n",
       "    .dataframe tbody tr th {\n",
       "        vertical-align: top;\n",
       "    }\n",
       "\n",
       "    .dataframe thead th {\n",
       "        text-align: right;\n",
       "    }\n",
       "</style>\n",
       "<table border=\"1\" class=\"dataframe\">\n",
       "  <thead>\n",
       "    <tr style=\"text-align: right;\">\n",
       "      <th></th>\n",
       "      <th>s3_path</th>\n",
       "      <th>url</th>\n",
       "    </tr>\n",
       "  </thead>\n",
       "  <tbody>\n",
       "    <tr>\n",
       "      <th>0</th>\n",
       "      <td>s3://ladi/Images/FEMA_CAP/1013/20195/DSC_0512_...</td>\n",
       "      <td>https://ladi.s3-us-west-2.amazonaws.com/Images...</td>\n",
       "    </tr>\n",
       "    <tr>\n",
       "      <th>1</th>\n",
       "      <td>s3://ladi/Images/FEMA_CAP/1013/20195/DSC_0516_...</td>\n",
       "      <td>https://ladi.s3-us-west-2.amazonaws.com/Images...</td>\n",
       "    </tr>\n",
       "    <tr>\n",
       "      <th>2</th>\n",
       "      <td>s3://ladi/Images/FEMA_CAP/1013/20195/DSC_0521_...</td>\n",
       "      <td>https://ladi.s3-us-west-2.amazonaws.com/Images...</td>\n",
       "    </tr>\n",
       "    <tr>\n",
       "      <th>3</th>\n",
       "      <td>s3://ladi/Images/FEMA_CAP/1013/20195/DSC_0529_...</td>\n",
       "      <td>https://ladi.s3-us-west-2.amazonaws.com/Images...</td>\n",
       "    </tr>\n",
       "    <tr>\n",
       "      <th>4</th>\n",
       "      <td>s3://ladi/Images/FEMA_CAP/1013/20211/DSC_1028_...</td>\n",
       "      <td>https://ladi.s3-us-west-2.amazonaws.com/Images...</td>\n",
       "    </tr>\n",
       "    <tr>\n",
       "      <th>...</th>\n",
       "      <td>...</td>\n",
       "      <td>...</td>\n",
       "    </tr>\n",
       "    <tr>\n",
       "      <th>30096</th>\n",
       "      <td>s3://ladi/Images/FEMA_CAP/9168/616298/DSC_3980...</td>\n",
       "      <td>https://ladi.s3-us-west-2.amazonaws.com/Images...</td>\n",
       "    </tr>\n",
       "    <tr>\n",
       "      <th>30097</th>\n",
       "      <td>s3://ladi/Images/FEMA_CAP/9168/616298/DSC_3990...</td>\n",
       "      <td>https://ladi.s3-us-west-2.amazonaws.com/Images...</td>\n",
       "    </tr>\n",
       "    <tr>\n",
       "      <th>30098</th>\n",
       "      <td>s3://ladi/Images/FEMA_CAP/9168/616298/DSC_4000...</td>\n",
       "      <td>https://ladi.s3-us-west-2.amazonaws.com/Images...</td>\n",
       "    </tr>\n",
       "    <tr>\n",
       "      <th>30099</th>\n",
       "      <td>s3://ladi/Images/FEMA_CAP/9168/616298/DSC_3982...</td>\n",
       "      <td>https://ladi.s3-us-west-2.amazonaws.com/Images...</td>\n",
       "    </tr>\n",
       "    <tr>\n",
       "      <th>30100</th>\n",
       "      <td>s3://ladi/Images/FEMA_CAP/9168/616298/DSC_3983...</td>\n",
       "      <td>https://ladi.s3-us-west-2.amazonaws.com/Images...</td>\n",
       "    </tr>\n",
       "  </tbody>\n",
       "</table>\n",
       "<p>30101 rows × 2 columns</p>\n",
       "</div>"
      ],
      "text/plain": [
       "                                                 s3_path  \\\n",
       "0      s3://ladi/Images/FEMA_CAP/1013/20195/DSC_0512_...   \n",
       "1      s3://ladi/Images/FEMA_CAP/1013/20195/DSC_0516_...   \n",
       "2      s3://ladi/Images/FEMA_CAP/1013/20195/DSC_0521_...   \n",
       "3      s3://ladi/Images/FEMA_CAP/1013/20195/DSC_0529_...   \n",
       "4      s3://ladi/Images/FEMA_CAP/1013/20211/DSC_1028_...   \n",
       "...                                                  ...   \n",
       "30096  s3://ladi/Images/FEMA_CAP/9168/616298/DSC_3980...   \n",
       "30097  s3://ladi/Images/FEMA_CAP/9168/616298/DSC_3990...   \n",
       "30098  s3://ladi/Images/FEMA_CAP/9168/616298/DSC_4000...   \n",
       "30099  s3://ladi/Images/FEMA_CAP/9168/616298/DSC_3982...   \n",
       "30100  s3://ladi/Images/FEMA_CAP/9168/616298/DSC_3983...   \n",
       "\n",
       "                                                     url  \n",
       "0      https://ladi.s3-us-west-2.amazonaws.com/Images...  \n",
       "1      https://ladi.s3-us-west-2.amazonaws.com/Images...  \n",
       "2      https://ladi.s3-us-west-2.amazonaws.com/Images...  \n",
       "3      https://ladi.s3-us-west-2.amazonaws.com/Images...  \n",
       "4      https://ladi.s3-us-west-2.amazonaws.com/Images...  \n",
       "...                                                  ...  \n",
       "30096  https://ladi.s3-us-west-2.amazonaws.com/Images...  \n",
       "30097  https://ladi.s3-us-west-2.amazonaws.com/Images...  \n",
       "30098  https://ladi.s3-us-west-2.amazonaws.com/Images...  \n",
       "30099  https://ladi.s3-us-west-2.amazonaws.com/Images...  \n",
       "30100  https://ladi.s3-us-west-2.amazonaws.com/Images...  \n",
       "\n",
       "[30101 rows x 2 columns]"
      ]
     },
     "execution_count": 28,
     "metadata": {},
     "output_type": "execute_result"
    }
   ],
   "source": [
    "metadata = pd.read_csv('tiny_metadata.csv')\n",
    "metadata = metadata[['s3_path','url']]\n",
    "metadata"
   ]
  },
  {
   "cell_type": "code",
   "execution_count": 31,
   "metadata": {},
   "outputs": [],
   "source": [
    "final_df = df.merge(metadata,how='inner',on='s3_path')"
   ]
  },
  {
   "cell_type": "code",
   "execution_count": 32,
   "metadata": {},
   "outputs": [],
   "source": [
    "final_df.to_csv('finalBoi.csv')"
   ]
  },
  {
   "cell_type": "code",
   "execution_count": null,
   "metadata": {},
   "outputs": [],
   "source": []
  }
 ],
 "metadata": {
  "kernelspec": {
   "display_name": "Python 3",
   "language": "python",
   "name": "python3"
  },
  "language_info": {
   "codemirror_mode": {
    "name": "ipython",
    "version": 3
   },
   "file_extension": ".py",
   "mimetype": "text/x-python",
   "name": "python",
   "nbconvert_exporter": "python",
   "pygments_lexer": "ipython3",
   "version": "3.7.6"
  }
 },
 "nbformat": 4,
 "nbformat_minor": 4
}
