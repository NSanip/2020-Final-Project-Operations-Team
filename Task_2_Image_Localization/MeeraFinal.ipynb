{
 "cells": [
  {
   "cell_type": "markdown",
   "metadata": {},
   "source": [
    "## Working with actual hurricane data"
   ]
  },
  {
   "cell_type": "code",
   "execution_count": 2,
   "metadata": {
    "collapsed": true,
    "jupyter": {
     "outputs_hidden": true
    }
   },
   "outputs": [
    {
     "name": "stderr",
     "output_type": "stream",
     "text": [
      "ERROR:root:Internal Python error in the inspect module.\n",
      "Below is the traceback from this internal error.\n",
      "\n"
     ]
    },
    {
     "name": "stdout",
     "output_type": "stream",
     "text": [
      "Traceback (most recent call last):\n",
      "  File \"/opt/conda/lib/python3.7/site-packages/IPython/core/interactiveshell.py\", line 3331, in run_code\n",
      "    exec(code_obj, self.user_global_ns, self.user_ns)\n",
      "  File \"<ipython-input-2-2e9b0b736433>\", line 5, in <module>\n",
      "    import matplotlib.pyplot as plt\n",
      "  File \"/opt/conda/lib/python3.7/site-packages/matplotlib/__init__.py\", line 1015, in <module>\n",
      "    rcParams = rc_params()\n",
      "  File \"/opt/conda/lib/python3.7/site-packages/matplotlib/__init__.py\", line 878, in rc_params\n",
      "    return rc_params_from_file(matplotlib_fname(), fail_on_error)\n",
      "  File \"/opt/conda/lib/python3.7/site-packages/matplotlib/__init__.py\", line 731, in matplotlib_fname\n",
      "    for fname in gen_candidates():\n",
      "  File \"/opt/conda/lib/python3.7/site-packages/matplotlib/__init__.py\", line 720, in gen_candidates\n",
      "    yield os.path.join(os.getcwd(), 'matplotlibrc')\n",
      "FileNotFoundError: [Errno 2] No such file or directory\n",
      "\n",
      "During handling of the above exception, another exception occurred:\n",
      "\n",
      "Traceback (most recent call last):\n",
      "  File \"/opt/conda/lib/python3.7/site-packages/IPython/core/interactiveshell.py\", line 2044, in showtraceback\n",
      "    stb = value._render_traceback_()\n",
      "AttributeError: 'FileNotFoundError' object has no attribute '_render_traceback_'\n",
      "\n",
      "During handling of the above exception, another exception occurred:\n",
      "\n",
      "Traceback (most recent call last):\n",
      "  File \"/opt/conda/lib/python3.7/site-packages/IPython/core/ultratb.py\", line 1148, in get_records\n",
      "    return _fixed_getinnerframes(etb, number_of_lines_of_context, tb_offset)\n",
      "  File \"/opt/conda/lib/python3.7/site-packages/IPython/core/ultratb.py\", line 316, in wrapped\n",
      "    return f(*args, **kwargs)\n",
      "  File \"/opt/conda/lib/python3.7/site-packages/IPython/core/ultratb.py\", line 350, in _fixed_getinnerframes\n",
      "    records = fix_frame_records_filenames(inspect.getinnerframes(etb, context))\n",
      "  File \"/opt/conda/lib/python3.7/inspect.py\", line 1502, in getinnerframes\n",
      "    frameinfo = (tb.tb_frame,) + getframeinfo(tb, context)\n",
      "  File \"/opt/conda/lib/python3.7/inspect.py\", line 1460, in getframeinfo\n",
      "    filename = getsourcefile(frame) or getfile(frame)\n",
      "  File \"/opt/conda/lib/python3.7/inspect.py\", line 696, in getsourcefile\n",
      "    if getattr(getmodule(object, filename), '__loader__', None) is not None:\n",
      "  File \"/opt/conda/lib/python3.7/inspect.py\", line 725, in getmodule\n",
      "    file = getabsfile(object, _filename)\n",
      "  File \"/opt/conda/lib/python3.7/inspect.py\", line 709, in getabsfile\n",
      "    return os.path.normcase(os.path.abspath(_filename))\n",
      "  File \"/opt/conda/lib/python3.7/posixpath.py\", line 383, in abspath\n",
      "    cwd = os.getcwd()\n",
      "FileNotFoundError: [Errno 2] No such file or directory\n"
     ]
    },
    {
     "ename": "FileNotFoundError",
     "evalue": "[Errno 2] No such file or directory",
     "output_type": "error",
     "traceback": [
      "\u001b[0;31m---------------------------------------------------------------------------\u001b[0m"
     ]
    }
   ],
   "source": [
    "# importing everything\n",
    "\n",
    "import pandas as pd\n",
    "import geopandas as gpd\n",
    "import matplotlib.pyplot as plt\n",
    "%matplotlib inline\n",
    "import urllib.request\n",
    "import rasterio\n",
    "\n",
    "import shapely"
   ]
  },
  {
   "cell_type": "code",
   "execution_count": null,
   "metadata": {},
   "outputs": [],
   "source": [
    "# setting up the figsize so that we don't have to keep entering it when plotting\n",
    "\n",
    "plt.rcParams['figure.figsize'] = (20, 10)"
   ]
  },
  {
   "cell_type": "code",
   "execution_count": null,
   "metadata": {},
   "outputs": [],
   "source": [
    "post_hurricane_gpd = gpd.read_file('post-event-game-grid.geojson')"
   ]
  },
  {
   "cell_type": "code",
   "execution_count": null,
   "metadata": {},
   "outputs": [],
   "source": [
    "# visualizing the game grid\n",
    "\n",
    "ax = post_hurricane_gpd.plot()"
   ]
  },
  {
   "cell_type": "code",
   "execution_count": null,
   "metadata": {},
   "outputs": [],
   "source": [
    "# view the columns of this dataframe\n",
    "\n",
    "post_hurricane_gpd.head(1)"
   ]
  },
  {
   "cell_type": "markdown",
   "metadata": {},
   "source": [
    "### DEMs"
   ]
  },
  {
   "cell_type": "code",
   "execution_count": null,
   "metadata": {},
   "outputs": [],
   "source": [
    "# bounds of the game grid\n",
    "\n",
    "northernmost = post_hurricane_gpd['y_centroid'].max() + 0.1\n",
    "southernmost = post_hurricane_gpd['y_centroid'].min() - 0.1\n",
    "easternmost = post_hurricane_gpd['x_centroid'].max() + 0.1\n",
    "westernmost = post_hurricane_gpd['x_centroid'].min() - 0.1\n",
    "print(northernmost, southernmost, easternmost, westernmost)"
   ]
  },
  {
   "cell_type": "code",
   "execution_count": null,
   "metadata": {},
   "outputs": [],
   "source": [
    "# reading in the set of DEMs for the game grid\n",
    "\n",
    "filepath = pd.read_csv('post-event-dems.csv')\n",
    "filepath"
   ]
  },
  {
   "cell_type": "code",
   "execution_count": null,
   "metadata": {},
   "outputs": [],
   "source": [
    "# downloading each DEM\n",
    "\n",
    "for idx, path in enumerate(filepath['downloadURL']):\n",
    "    urllib.request.urlretrieve(path, 'post-event-images/dem-orig-{}.tif'.format(idx))\n",
    "print('Done!')"
   ]
  },
  {
   "cell_type": "code",
   "execution_count": null,
   "metadata": {},
   "outputs": [],
   "source": [
    "# creating each elevation map from the DEMs\n",
    "\n",
    "!/opt/conda/bin/gdaldem hillshade post-event-images/dem-orig-0.tif post-event-images/dem-hs-0.tif\n",
    "\n",
    "!/opt/conda/bin/gdaldem hillshade post-event-images/dem-orig-1.tif post-event-images/dem-hs-1.tif\n",
    "\n",
    "!/opt/conda/bin/gdaldem hillshade post-event-images/dem-orig-2.tif post-event-images/dem-hs-2.tif\n",
    "\n",
    "!/opt/conda/bin/gdaldem hillshade post-event-images/dem-orig-3.tif post-event-images/dem-hs-3.tif\n",
    "\n",
    "!/opt/conda/bin/gdaldem hillshade post-event-images/dem-orig-4.tif post-event-images/dem-hs-4.tif\n",
    "\n",
    "!/opt/conda/bin/gdaldem hillshade post-event-images/dem-orig-5.tif post-event-images/dem-hs-5.tif\n",
    "\n",
    "!/opt/conda/bin/gdaldem hillshade post-event-images/dem-orig-6.tif post-event-images/dem-hs-6.tif\n",
    "\n",
    "!/opt/conda/bin/gdaldem hillshade post-event-images/dem-orig-7.tif post-event-images/dem-hs-7.tif"
   ]
  },
  {
   "cell_type": "code",
   "execution_count": null,
   "metadata": {},
   "outputs": [],
   "source": [
    "# visualizing one of the elevation maps (sanity check)\n",
    "# DOESN'T WORK\n",
    "\n",
    "with rasterio.open('post-event-images/dem-hs-0.tif', 'r') as src:\n",
    "    print(src.meta)\n",
    "    hillshade = src.read(1)\n",
    "    hillshade_mask = src.read_masks(1)\n",
    "    hillshade_transform = src.profile['transform']\n",
    "    \n",
    "    fig, ax = plt.subplots(1,figsize = (10,10))\n",
    "    \n",
    "    rasterio.plot.show(np.ma.masked_where(hillshade_mask==0, hillshade), transform=hillshade_transform, ax=ax)\n",
    "   \n",
    "    plt.show() "
   ]
  },
  {
   "cell_type": "markdown",
   "metadata": {},
   "source": [
    "### OSM"
   ]
  },
  {
   "cell_type": "code",
   "execution_count": null,
   "metadata": {},
   "outputs": [],
   "source": []
  }
 ],
 "metadata": {
  "kernelspec": {
   "display_name": "Python 3",
   "language": "python",
   "name": "python3"
  },
  "language_info": {
   "codemirror_mode": {
    "name": "ipython",
    "version": 3
   },
   "file_extension": ".py",
   "mimetype": "text/x-python",
   "name": "python",
   "nbconvert_exporter": "python",
   "pygments_lexer": "ipython3",
   "version": "3.7.6"
  }
 },
 "nbformat": 4,
 "nbformat_minor": 4
}
